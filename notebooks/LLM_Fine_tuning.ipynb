{
 "cells": [
  {
   "metadata": {
    "ExecuteTime": {
     "end_time": "2025-03-10T02:28:38.213588Z",
     "start_time": "2025-03-10T02:28:37.329092Z"
    }
   },
   "cell_type": "code",
   "source": [
    "# Set environment variable to disable the MPS high watermark limit.\n",
    "import os\n",
    "os.environ[\"PYTORCH_MPS_HIGH_WATERMARK_RATIO\"] = \"0.0\"\n",
    "\n",
    "# Now import torch and check which device is available.\n",
    "import torch\n",
    "\n",
    "if torch.backends.mps.is_available():\n",
    "    device = torch.device(\"mps\")\n",
    "    print(\"MPS device is available:\", device)\n",
    "else:\n",
    "    device = torch.device(\"cuda\" if torch.cuda.is_available() else \"cpu\")\n",
    "    print(\"Using device:\", device)"
   ],
   "id": "21bdd65303f8f492",
   "outputs": [
    {
     "name": "stdout",
     "output_type": "stream",
     "text": [
      "MPS device is available: mps\n"
     ]
    }
   ],
   "execution_count": 1
  },
  {
   "metadata": {
    "ExecuteTime": {
     "end_time": "2025-03-10T02:30:08.759202Z",
     "start_time": "2025-03-10T02:28:38.288352Z"
    }
   },
   "cell_type": "code",
   "source": [
    "from transformers import AutoTokenizer, AutoModelForCausalLM, DataCollatorForLanguageModeling, TrainingArguments, Trainer\n",
    "from datasets import load_dataset, Dataset\n",
    "import torch\n",
    "\n",
    "# Specify the model name. (Choose either instruct or base version.)\n",
    "model_name = \"Qwen/Qwen2.5-3B-Instruct\"  # or \"Qwen/Qwen2.5-3B\"\n",
    "tokenizer = AutoTokenizer.from_pretrained(model_name)\n",
    "model = AutoModelForCausalLM.from_pretrained(model_name, torch_dtype=torch.float16)\n",
    "model = model.to(device)\n",
    "\n",
    "# Example synthetic dataset creation (replace with your own data loading as needed)\n",
    "import pandas as pd\n",
    "from sklearn.model_selection import train_test_split\n",
    "\n",
    "data = {\n",
    "    \"question\": [\n",
    "        \"What is attention in neural networks?\",\n",
    "        \"How do transformer models work?\",\n",
    "        \"What are the advantages of self-attention?\"\n",
    "    ],\n",
    "    \"answer\": [\n",
    "        \"Attention is a mechanism that allows models to focus on relevant parts of the input.\",\n",
    "        \"Transformer models use self-attention and feed-forward layers to process sequences in parallel.\",\n",
    "        \"Self-attention helps capture long-range dependencies and improves parallelization.\"\n",
    "    ]\n",
    "}\n",
    "\n",
    "df = pd.DataFrame(data)\n",
    "train_df, val_df = train_test_split(df, test_size=0.2, random_state=42)\n",
    "train_dataset = Dataset.from_pandas(train_df)\n",
    "val_dataset = Dataset.from_pandas(val_df)\n",
    "\n",
    "# Define a tokenization function\n",
    "def tokenize_function(example):\n",
    "    text = f\"Question: {example['question']}\\nAnswer: {example['answer']}\\n\"\n",
    "    return tokenizer(text, truncation=True, max_length=1024)\n",
    "\n",
    "train_dataset = train_dataset.map(tokenize_function, batched=True)\n",
    "val_dataset = val_dataset.map(tokenize_function, batched=True)\n",
    "\n",
    "data_collator = DataCollatorForLanguageModeling(tokenizer=tokenizer, mlm=False)\n",
    "\n",
    "# Create TrainingArguments. Adjust batch sizes if necessary to avoid memory issues.\n",
    "training_args = TrainingArguments(\n",
    "    output_dir=\"model/qwen_finetuned\",\n",
    "    evaluation_strategy=\"steps\",\n",
    "    per_device_train_batch_size=1,    # Lower batch size for MPS if needed\n",
    "    per_device_eval_batch_size=1,\n",
    "    num_train_epochs=3,\n",
    "    save_steps=500,\n",
    "    eval_steps=500,\n",
    "    logging_steps=100,\n",
    "    learning_rate=5e-5,\n",
    "    fp16=False,   # MPS does not support fp16; we rely on bf16 if available\n",
    "    bf16=True if torch.backends.mps.is_available() else False,\n",
    "    report_to=\"none\",\n",
    "    gradient_accumulation_steps=4,\n",
    "    optim=\"adamw_torch\",\n",
    "    disable_tqdm=False,\n",
    ")\n",
    "\n",
    "print(\"TrainingArguments created successfully.\")"
   ],
   "id": "50711e108b7d1547",
   "outputs": [
    {
     "name": "stderr",
     "output_type": "stream",
     "text": [
      "/Library/Frameworks/Python.framework/Versions/3.13/lib/python3.13/site-packages/tqdm/auto.py:21: TqdmWarning: IProgress not found. Please update jupyter and ipywidgets. See https://ipywidgets.readthedocs.io/en/stable/user_install.html\n",
      "  from .autonotebook import tqdm as notebook_tqdm\n",
      "Loading checkpoint shards: 100%|██████████| 2/2 [00:22<00:00, 11.18s/it]\n",
      "\n",
      "KeyboardInterrupt\n",
      "\n"
     ]
    }
   ],
   "execution_count": 2
  },
  {
   "metadata": {},
   "cell_type": "code",
   "outputs": [],
   "execution_count": null,
   "source": [
    "# Create the Trainer\n",
    "trainer = Trainer(\n",
    "    model=model,\n",
    "    args=training_args,\n",
    "    train_dataset=train_dataset,\n",
    "    eval_dataset=val_dataset,\n",
    "    data_collator=data_collator,\n",
    ")\n",
    "\n",
    "print(\"Trainer created successfully. Ready to start training!\")\n",
    "\n",
    "# Start fine-tuning\n",
    "trainer.train()"
   ],
   "id": "1acc46f4fe77c457"
  },
  {
   "metadata": {},
   "cell_type": "code",
   "outputs": [],
   "execution_count": null,
   "source": "",
   "id": "e4a45172c42d51de"
  }
 ],
 "metadata": {
  "kernelspec": {
   "display_name": "Python 3",
   "language": "python",
   "name": "python3"
  },
  "language_info": {
   "codemirror_mode": {
    "name": "ipython",
    "version": 2
   },
   "file_extension": ".py",
   "mimetype": "text/x-python",
   "name": "python",
   "nbconvert_exporter": "python",
   "pygments_lexer": "ipython2",
   "version": "2.7.6"
  }
 },
 "nbformat": 4,
 "nbformat_minor": 5
}
