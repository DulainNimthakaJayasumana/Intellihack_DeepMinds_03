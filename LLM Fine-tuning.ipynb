{
 "cells": [
  {
   "cell_type": "code",
   "execution_count": 9,
   "id": "initial_id",
   "metadata": {
    "collapsed": true,
    "ExecuteTime": {
     "end_time": "2025-03-08T17:30:03.369010700Z",
     "start_time": "2025-03-08T17:30:03.355764500Z"
    }
   },
   "outputs": [
    {
     "name": "stdout",
     "output_type": "stream",
     "text": [
      "Datasets saved: train_qa.csv and val_qa.csv\n"
     ]
    }
   ],
   "source": [
    "# Cell 1: Synthetic Dataset Generation and Preprocessing\n",
    "import pandas as pd\n",
    "from sklearn.model_selection import train_test_split\n",
    "data = {\n",
    "    \"question\": [\n",
    "        \"What is attention in neural networks?\",\n",
    "        \"How do transformer models work?\",\n",
    "        \"What are the advantages of self-attention?\"\n",
    "    ],\n",
    "    \"answer\": [\n",
    "        \"Attention is a mechanism that allows models to focus on relevant parts of the input.\",\n",
    "        \"Transformer models use self-attention and feed-forward layers to process sequences in parallel.\",\n",
    "        \"Self-attention helps capture long-range dependencies and improves parallelization.\"\n",
    "    ]\n",
    "}\n",
    "\n",
    "df = pd.DataFrame(data)\n",
    "train_df, val_df = train_test_split(df, test_size=0.2, random_state=42)\n",
    "train_df.to_csv(\"train_qa.csv\", index=False)\n",
    "val_df.to_csv(\"val_qa.csv\", index=False)\n",
    "\n",
    "print(\"Datasets saved: train_qa.csv and val_qa.csv\")"
   ]
  },
  {
   "cell_type": "code",
   "outputs": [
    {
     "ename": "SyntaxError",
     "evalue": "invalid syntax (616282695.py, line 3)",
     "output_type": "error",
     "traceback": [
      "  \u001B[36mCell\u001B[39m\u001B[36m \u001B[39m\u001B[32mIn[10]\u001B[39m\u001B[32m, line 3\u001B[39m\n\u001B[31m    \u001B[39m\u001B[31mfrom transformers import AutoTokenizer, AutoModelForCausalLM, Trainer, TrainingArguments, DataCollatorForLanguageModeling, transformers.utils\u001B[39m\n                                                                                                                                           ^\n\u001B[31mSyntaxError\u001B[39m\u001B[31m:\u001B[39m invalid syntax\n"
     ]
    }
   ],
   "source": [
    "# Cell 2: Fine-Tuning Qwen 2.5 3B Model\n",
    "import torch\n",
    "from transformers import AutoTokenizer, AutoModelForCausalLM, Trainer, TrainingArguments, DataCollatorForLanguageModeling, transformers.utils\n",
    "import pandas as pd\n",
    "from datasets import Dataset\n",
    "\n",
    "# Load training and validation data from CSV\n",
    "train_df = pd.read_csv(\"train_qa.csv\")\n",
    "val_df = pd.read_csv(\"val_qa.csv\")\n",
    "\n",
    "# Convert the pandas DataFrames to Hugging Face Datasets\n",
    "train_dataset = Dataset.from_pandas(train_df)\n",
    "val_dataset = Dataset.from_pandas(val_df)\n",
    "\n",
    "# Select model variant: use the instruct version or the base model.\n",
    "model_name = \"Qwen/Qwen2.5-3B-Instruct\"  # or \"Qwen/Qwen2.5-3B\"\n",
    "tokenizer = AutoTokenizer.from_pretrained(model_name)\n",
    "model = AutoModelForCausalLM.from_pretrained(model_name, torch_dtype=torch.float16)\n",
    "\n",
    "def tokenize_function(example):\n",
    "    # Concatenate question and answer with a separator.\n",
    "    text = f\"Question: {example['question']}\\nAnswer: {example['answer']}\\n\"\n",
    "    return tokenizer(text, truncation=True, max_length=1024)\n",
    "\n",
    "# Apply tokenization to the datasets\n",
    "train_dataset = train_dataset.map(tokenize_function, batched=True)\n",
    "val_dataset = val_dataset.map(tokenize_function, batched=True)\n",
    "\n",
    "# Prepare the data collator for language modeling\n",
    "data_collator = DataCollatorForLanguageModeling(tokenizer=tokenizer, mlm=False)\n",
    "\n",
    "# Define training arguments (adjust hyperparameters as needed)\n",
    "training_args = TrainingArguments(\n",
    "    output_dir=\"./qwen_finetuned\",\n",
    "    evaluation_strategy=\"steps\",\n",
    "    per_device_train_batch_size=1,\n",
    "    per_device_eval_batch_size=1,\n",
    "    num_train_epochs=3,\n",
    "    save_steps=500,\n",
    "    eval_steps=500,\n",
    "    logging_steps=100,\n",
    "    learning_rate=5e-5,\n",
    "    fp16=True,\n",
    ")\n",
    "\n",
    "# Initialize the Trainer and start training\n",
    "trainer = Trainer(\n",
    "    model=model,\n",
    "    args=training_args,\n",
    "    train_dataset=train_dataset,\n",
    "    eval_dataset=val_dataset,\n",
    "    data_collator=data_collator,\n",
    ")\n",
    "\n",
    "trainer.train()\n"
   ],
   "metadata": {
    "collapsed": false,
    "ExecuteTime": {
     "end_time": "2025-03-08T17:30:03.405877600Z",
     "start_time": "2025-03-08T17:30:03.370165400Z"
    }
   },
   "id": "68bf690b2d3e5afc",
   "execution_count": 10
  },
  {
   "cell_type": "code",
   "outputs": [],
   "source": [
    "# Cell 3: Save the Fine-Tuned Model and Tokenizer\n",
    "model.save_pretrained(\"./qwen_finetuned\")\n",
    "tokenizer.save_pretrained(\"./qwen_finetuned\")\n",
    "print(\"Model and tokenizer saved to './qwen_finetuned'\")\n"
   ],
   "metadata": {
    "collapsed": false,
    "ExecuteTime": {
     "start_time": "2025-03-08T17:30:03.385166600Z"
    }
   },
   "id": "afb5a89552dcf2c8"
  },
  {
   "cell_type": "code",
   "outputs": [],
   "source": [
    "# Cell 4: Quantization Command\n",
    "!python convert_to_gguf.py --input_dir ./qwen_finetuned --output_file qwen_finetuned.gguf --quantization 4bit\n"
   ],
   "metadata": {
    "collapsed": false,
    "ExecuteTime": {
     "start_time": "2025-03-08T17:30:03.387419200Z"
    }
   },
   "id": "97567c0cbbb70688"
  },
  {
   "cell_type": "code",
   "outputs": [],
   "source": [
    "# Cell 5: Inference with the Quantized Model\n",
    "import subprocess\n",
    "\n",
    "def run_inference(prompt: str) -> str:\n",
    "    # This command assumes a CLI tool \"gguf_infer\" that accepts the model and prompt.\n",
    "    result = subprocess.run(\n",
    "        [\"gguf_infer\", \"--model\", \"qwen_finetuned.gguf\", \"--prompt\", prompt],\n",
    "        stdout=subprocess.PIPE,\n",
    "        stderr=subprocess.PIPE,\n",
    "        text=True\n",
    "    )\n",
    "    if result.returncode != 0:\n",
    "        print(\"Error during inference:\", result.stderr)\n",
    "        return \"\"\n",
    "    return result.stdout\n",
    "\n",
    "\n",
    "sample_prompt = \"What is attention in neural networks?\"\n",
    "print(\"Input:\", sample_prompt)\n",
    "print(\"Output:\", run_inference(sample_prompt))\n"
   ],
   "metadata": {
    "collapsed": false,
    "ExecuteTime": {
     "start_time": "2025-03-08T17:30:03.388423700Z"
    }
   },
   "id": "d9468d7f1157f6ba"
  },
  {
   "cell_type": "code",
   "outputs": [],
   "source": [
    "# Cell 6: Evaluation Framework\n",
    "import evaluate\n",
    "\n",
    "rouge = evaluate.load(\"rouge\")\n",
    "\n",
    "def evaluate_model(generated_answers, references):\n",
    "    results = rouge.compute(predictions=generated_answers, references=references)\n",
    "    return results\n",
    "\n",
    "generated = [\"Attention is a mechanism that allows models to focus on relevant parts of the input.\"]\n",
    "references = [\"Attention is a mechanism that allows models to focus on relevant parts of the input.\"]\n",
    "print(\"Evaluation Results:\", evaluate_model(generated, references))\n"
   ],
   "metadata": {
    "collapsed": false,
    "ExecuteTime": {
     "start_time": "2025-03-08T17:30:03.390509700Z"
    }
   },
   "id": "aa10c81eb022370b"
  }
 ],
 "metadata": {
  "kernelspec": {
   "display_name": "Python 3",
   "language": "python",
   "name": "python3"
  },
  "language_info": {
   "codemirror_mode": {
    "name": "ipython",
    "version": 2
   },
   "file_extension": ".py",
   "mimetype": "text/x-python",
   "name": "python",
   "nbconvert_exporter": "python",
   "pygments_lexer": "ipython2",
   "version": "2.7.6"
  }
 },
 "nbformat": 4,
 "nbformat_minor": 5
}
